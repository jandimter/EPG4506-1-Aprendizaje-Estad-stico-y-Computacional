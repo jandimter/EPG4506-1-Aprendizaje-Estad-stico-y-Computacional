{
 "cells": [
  {
   "cell_type": "markdown",
   "metadata": {},
   "source": [
    "## Introducción\n",
    "\n",
    "Esta tarea se enfoca en abordar un problema real, el cual será resuelto aplicando alguna\n",
    "técnica de aprendizaje supervisado y aprendizaje no supervisado. Lo importante de la tarea\n",
    "es que sepan reconocer que técnica aplicar y como interpretar los resultados en un caso\n",
    "práctico específico.\n",
    "\n",
    "## Descripción del problema\n",
    "\n",
    "Cada grupo debe seleccionar una base de datos de su interés y a libre elección de la\n",
    "temática. La base de datos debe contener el formato adecuado para aplicar las\n",
    "metodologías de Aprendizaje Supervisado, es decir, una variable respuesta y varias\n",
    "covariables. La base de datos no puede ser de las bases contenidas en Python u otro\n",
    "software similar.\n",
    "\n",
    "Una vez definida la base de datos por el grupo deben redactar un informe con los resultados,\n",
    "el cual no debe contener códigos de Python. El informe debe ser estructurado de la siguiente\n",
    "forma:\n",
    "\n",
    "1. Portada; indicando el nombre de los integrantes del grupo.\n",
    "2. Introducción; breve descripción del contenido del informe.\n",
    "3. Objetivos; relacionado con el contexto de los datos.\n",
    "4. Resultados; Incorporar los principales resultados obtenidos relacionándolos en el contexto de la base de datos. Como parte de los resultados, debe incluir un;\n",
    "    a. Análisis exploratorio de datos con indicadores, tablas y gráficas apropiadas.\n",
    "    b. Aplicar apropiadamente técnicas del aprendizaje supervisado y seleccionar el mejor modelo posible.\n",
    "    c. Realizar un análisis de clúster (sin considerar la variable respuesta), identificando la cantidad apropiada de grupos e interpretando dichos grupos.\n",
    "5. Conclusión; Relacionada con los resultados y objetivos planteados inicialmente.\n",
    "6. Anexos; Es opcional y contempla cualquier información adicional que consideren relevante.\n",
    "Se debe entregar como un archivo adicional la base de datos (indicar si la base de confidencial o abierta) y el notebook de Python.\n",
    "\n",
    "## Aspectos formales\n",
    "\n",
    "Considera los aspectos formales que se describen a continuación:\n",
    "- Letra Arial 12 normal, interlineado simple.\n",
    "- Extensión: Entre 2500 - 7500 palabras.\n",
    "- Utilizar formato APA en citas al interior del texto y en la bibliografía."
   ]
  },
  {
   "cell_type": "code",
   "execution_count": null,
   "metadata": {},
   "outputs": [],
   "source": []
  }
 ],
 "metadata": {
  "language_info": {
   "name": "python"
  }
 },
 "nbformat": 4,
 "nbformat_minor": 2
}
